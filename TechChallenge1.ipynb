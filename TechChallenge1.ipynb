{
  "nbformat": 4,
  "nbformat_minor": 0,
  "metadata": {
    "colab": {
      "provenance": []
    },
    "kernelspec": {
      "name": "python3",
      "display_name": "Python 3"
    },
    "language_info": {
      "name": "python"
    }
  },
  "cells": [
    {
      "cell_type": "code",
      "execution_count": 15,
      "metadata": {
        "id": "zo7_x8wGvZHf"
      },
      "outputs": [],
      "source": [
        "import pandas as pd"
      ]
    },
    {
      "cell_type": "code",
      "source": [
        "'''\n",
        "#1 – Acessar o site da Embrapa – Dados da Vitivinicultura, aba “produção” (http://vitibrasil.cnpuv.embrapa.br/index.php?opcao=opt_02) realizar a extração da base – arquivo salvo com o nome “Producao”\n",
        "\n",
        "#2 – Acessar o site da Embrapa – Dados da Vitivinicultura, aba “exportação”, opção “vinhos de mesa” (http://vitibrasil.cnpuv.embrapa.br/index.php?opcao=opt_06) realizar a extração da base – arquivo salvo com o nome “ExpVinho”\n",
        "\n",
        "#3 – Acessar o site da OIV (International Organisation of Vine and Wine), na opção “What we do” – “Statistics” e acessar a opção “DATABASE” https://www.oiv.int/what-we-do/data-discovery-report?oiv e filtrar:\n",
        "1.1\tProduct = Wine\n",
        "1.2\tVariable = Consumption, Exports, Imports e Production\n",
        "1.3\tYear = 2008-2022\n",
        "1.4\tContinent = Africa, America, Asia, Europe, Oceania\n",
        "1.5\tRealizar a extração da base – arquivo salvo como “BD_OIV_Original”\n",
        "'''"
      ],
      "metadata": {
        "colab": {
          "base_uri": "https://localhost:8080/",
          "height": 105
        },
        "id": "pPuF_TDOvfee",
        "outputId": "248ecbed-a85e-4117-e731-127fd71cef97"
      },
      "execution_count": 16,
      "outputs": [
        {
          "output_type": "execute_result",
          "data": {
            "text/plain": [
              "'\\n#1 – Acessar o site da Embrapa – Dados da Vitivinicultura, aba “produção” (http://vitibrasil.cnpuv.embrapa.br/index.php?opcao=opt_02) realizar a extração da base – arquivo salvo com o nome “Producao”\\n\\n#2 – Acessar o site da Embrapa – Dados da Vitivinicultura, aba “exportação”, opção “vinhos de mesa” (http://vitibrasil.cnpuv.embrapa.br/index.php?opcao=opt_06) realizar a extração da base – arquivo salvo com o nome “ExpVinho”\\n\\n#3 – Acessar o site da OIV (International Organisation of Vine and Wine), na opção “What we do” – “Statistics” e acessar a opção “DATABASE” https://www.oiv.int/what-we-do/data-discovery-report?oiv e filtrar:\\n1.1\\tProduct = Wine\\n1.2\\tVariable = Consumption, Exports, Imports e Production\\n1.3\\tYear = 2008-2022\\n1.4\\tContinent = Africa, America, Asia, Europe, Oceania\\n1.5\\tRealizar a extração da base – arquivo salvo como “BD_OIV_Original”\\n'"
            ],
            "application/vnd.google.colaboratory.intrinsic+json": {
              "type": "string"
            }
          },
          "metadata": {},
          "execution_count": 16
        }
      ]
    },
    {
      "cell_type": "code",
      "source": [
        "#1\n",
        "\n",
        "df = pd.read_csv('/content/Producao.csv', sep=\";\")\n",
        "# Excluir colunas 'id' e dos anos de 1970 a 2007 no DataFrames\n",
        "df = df.drop(columns=['id'])\n",
        "df = df.loc[:, ~df.columns.isin([str(year) for year in range(1970, 2008)])]\n",
        "\n",
        "# Selecionar produtos a serem considerados\n",
        "\n",
        "# Lista de produtos desejados\n",
        "produtos_desejados = ['VINHO DE MESA', 'VINHO FINO DE MESA (VINÍFERA)']\n",
        "\n",
        "# Filtra apenas as linhas com os produtos desejados\n",
        "df = df[df['produto'].isin(produtos_desejados)]\n",
        "\n",
        "# Aplicar melt no DF\n",
        "df_melt = df.melt(id_vars=[\"produto\"], var_name=\"Ano\", value_name=\"Produção em Litros\")\n",
        "\n",
        "\n",
        "# Agrupa apenas por ano, somando a produção em litros\n",
        "df_total_por_ano = df_melt.groupby('Ano')['Produção em Litros'].sum().reset_index()\n",
        "\n",
        "# Exportar e baixar a base gerada em .csv para leitura no power bi\n",
        "df_total_por_ano.to_csv('producao_total_ano.csv', index=False)\n"
      ],
      "metadata": {
        "id": "PZkl8NDlvk-c"
      },
      "execution_count": 17,
      "outputs": []
    },
    {
      "cell_type": "code",
      "source": [
        "#2\n",
        "# Abrir o arquivo .csv e salvá-lo em .xslx\n",
        "# Importar os dados e gerar o DataFrame\n",
        "df = pd.read_excel('/content/ExpVinho.xlsx')\n",
        "\n",
        "# Excluir a coluna 'Id'\n",
        "df = df.drop(columns=['Id'])\n",
        "\n",
        "# Separar em duas bases\n",
        "# Criar DataFrame exp_litros com as colunas de valores iniciais de cada ano\n",
        "exp_litros = df.iloc[:, [0] + [i for i in range(1, len(df.columns), 2)]]\n",
        "exp_litros.columns = ['País'] + [str(year) for year in range(1970, 2023)]\n",
        "\n",
        "# Criar DataFrame exp_usd com as colunas da segunda coluna de valores de cada ano\n",
        "exp_usd = df.iloc[:, [0] + [i for i in range(2, len(df.columns), 2)]]\n",
        "exp_usd.columns = ['País'] + [str(year) for year in range(1970, 2023)]\n",
        "\n",
        "# Excluir colunas dos anos de 1970 a 2007 nos DataFrames exp_litros e exp_usd\n",
        "exp_litros = exp_litros.loc[:, ~exp_litros.columns.isin([str(year) for year in range(1970, 2008)])]\n",
        "exp_usd = exp_usd.loc[:, ~exp_usd.columns.isin([str(year) for year in range(1970, 2008)])]\n",
        "\n",
        "# Aplicar Melt nos DF\n",
        "exp_litros_melt = exp_litros.melt(id_vars=[\"País\"], var_name=\"Ano\", value_name=\"Exportação em Litros\")\n",
        "exp_usd_melt = exp_usd.melt(id_vars=[\"País\"], var_name=\"Ano\", value_name=\"Exportação em Dólar\")\n",
        "\n",
        "# Importar e ler a base “De-Para Nomes países.xlsx”\n",
        "base_paises = pd.read_excel('/content/De-Para Nomes países.xlsx')\n",
        "\n",
        "#Ajustar o nome do país para a listagem padrão nas tabelas exp_usd_melt e exp_litros_melt\n",
        "\n",
        "exp_usd_melt = pd.merge(exp_usd_melt, base_paises, left_on='País', right_on='PaÃ­s', how='inner')\n",
        "exp_usd_melt = exp_usd_melt.drop(['Nome na base', 'Nome do País (Inglês)', 'País', 'PaÃ­s'], axis=1)\n",
        "exp_usd_melt = exp_usd_melt[['Nome do País (Português)', 'Ano', 'Exportação em Dólar']]\n",
        "\n",
        "exp_litros_melt = pd.merge(exp_litros_melt, base_paises, left_on='País', right_on='PaÃ­s', how='inner')\n",
        "exp_litros_melt = exp_litros_melt.drop(['Nome na base', 'Nome do País (Inglês)', 'País', 'PaÃ­s'], axis=1)\n",
        "exp_litros_melt = exp_litros_melt[['Nome do País (Português)', 'Ano', 'Exportação em Litros']]\n",
        "\n",
        "# Exportar e baixar as bases geradas em .csv para leitura no power bi\n",
        "exp_litros_melt.to_csv('exp_litros_melt.csv', index=False)\n",
        "exp_usd_melt.to_csv('exp_usd_melt.csv', index=False)\n"
      ],
      "metadata": {
        "id": "a1g8BKUnvvtB"
      },
      "execution_count": 18,
      "outputs": []
    },
    {
      "cell_type": "code",
      "source": [
        "#3\n",
        "# Importar e ler o arquivo\n",
        "bd_oiv = pd.read_excel('/content/BD_OIV_Original.xlsx')\n",
        "\n",
        "#ajustar tipo da coluna “Year” para int\n",
        "bd_oiv = bd_oiv.dropna(subset=['Year'])\n",
        "bd_oiv['Year'] = bd_oiv['Year'].astype(int)\n",
        "\n",
        "# Importar e ler a base “De-Para Nomes países.xlsx”\n",
        "base_paises = pd.read_excel('/content/De-Para Nomes países.xlsx')\n",
        "\n",
        "#Ajustar o nome do país para a listagem padrão nas tabelas exp_usd_melt e exp_litros_melt\n",
        "\n",
        "bd_oiv = pd.merge(bd_oiv, base_paises, left_on='Region/Country', right_on='Nome do País (Inglês)', how='inner')\n",
        "\n",
        "#Excluir colunas que não serão utilizadas\n",
        "bd_oiv = bd_oiv.drop(['Region/Country', 'Nome do País (Inglês)', 'Nome na base', 'PaÃ­s', 'Unit'], axis=1)\n",
        "\n",
        "# Renomeando as colunas\n",
        "novos_nomes = {\n",
        "    'Continent': 'Continente',\n",
        "    'Product': 'Produto',\n",
        "    'Variable': 'Variável',\n",
        "    'Year': 'Ano',\n",
        "    'Quantity': 'Quantidade em litros',\n",
        "    'Nome do País (Português)': 'País'}\n",
        "\n",
        "bd_oiv = bd_oiv.rename(columns=novos_nomes)\n",
        "\n",
        "\n",
        "# Reorganizar a ordem das colunas\n",
        "\n",
        "ordem_colunas = ['Continente', 'País', 'Variável', 'Ano', 'Quantidade em litros']\n",
        "bd_oiv = bd_oiv[ordem_colunas]\n",
        "\n",
        "\n",
        "# Ajustar quantidade de 1000 hl para litros\n",
        "\n",
        "bd_oiv['Quantidade em litros'] = bd_oiv['Quantidade em litros'] * 100000\n",
        "\n",
        "# Exportar e baixar a base gerada em .csv para leitura no power bi\n",
        "\n",
        "bd_oiv.to_csv('bd_oiv.csv', index=False)\n"
      ],
      "metadata": {
        "id": "Dv-PFRPsv3GA",
        "colab": {
          "base_uri": "https://localhost:8080/"
        },
        "outputId": "82e7d3c2-93ed-42fa-b15c-119d0f62d34a"
      },
      "execution_count": 19,
      "outputs": [
        {
          "output_type": "stream",
          "name": "stderr",
          "text": [
            "/usr/local/lib/python3.10/dist-packages/openpyxl/styles/stylesheet.py:226: UserWarning: Workbook contains no default style, apply openpyxl's default\n",
            "  warn(\"Workbook contains no default style, apply openpyxl's default\")\n"
          ]
        }
      ]
    }
  ]
}